{
 "metadata": {
  "language_info": {
   "codemirror_mode": {
    "name": "ipython",
    "version": 3
   },
   "file_extension": ".py",
   "mimetype": "text/x-python",
   "name": "python",
   "nbconvert_exporter": "python",
   "pygments_lexer": "ipython3",
   "version": "3.8.3-final"
  },
  "orig_nbformat": 2,
  "kernelspec": {
   "name": "python3",
   "display_name": "Python 3.8.3 64-bit ('base': conda)",
   "metadata": {
    "interpreter": {
     "hash": "bcf6d6f1e0171d0d91abd06fa98fe319d27d921fb762534eb067c2306250a62d"
    }
   }
  }
 },
 "nbformat": 4,
 "nbformat_minor": 2,
 "cells": [
  {
   "source": [
    "# Profanity Filter"
   ],
   "cell_type": "markdown",
   "metadata": {}
  },
  {
   "cell_type": "code",
   "execution_count": 1,
   "metadata": {},
   "outputs": [
    {
     "output_type": "stream",
     "name": "stdout",
     "text": [
      "--2021-03-25 00:41:49--  https://github.com/vzhou842/profanity-check/raw/master/profanity_check/data/clean_data.csv\n",
      "Resolving github.com (github.com)... 13.234.210.38\n",
      "Connecting to github.com (github.com)|13.234.210.38|:443... connected.\n",
      "HTTP request sent, awaiting response... 302 Found\n",
      "Location: https://raw.githubusercontent.com/vzhou842/profanity-check/master/profanity_check/data/clean_data.csv [following]\n",
      "--2021-03-25 00:41:50--  https://raw.githubusercontent.com/vzhou842/profanity-check/master/profanity_check/data/clean_data.csv\n",
      "Resolving raw.githubusercontent.com (raw.githubusercontent.com)... 185.199.111.133, 185.199.110.133, 185.199.108.133, ...\n",
      "Connecting to raw.githubusercontent.com (raw.githubusercontent.com)|185.199.111.133|:443... connected.\n",
      "HTTP request sent, awaiting response... 200 OK\n",
      "Length: 65535263 (62M) [text/plain]\n",
      "Saving to: ‘clean_data.csv’\n",
      "\n",
      "clean_data.csv      100%[===================>]  62.50M   836KB/s    in 85s     \n",
      "\n",
      "2021-03-25 00:43:21 (753 KB/s) - ‘clean_data.csv’ saved [65535263/65535263]\n",
      "\n"
     ]
    }
   ],
   "source": [
    "# download datasets\n",
    "# !wget https://github.com/vzhou842/profanity-check/raw/master/profanity_check/data/clean_data.csv"
   ]
  },
  {
   "cell_type": "code",
   "execution_count": null,
   "metadata": {},
   "outputs": [],
   "source": [
    "import pandas as pd\n",
    "from sklearn.feature_extraction.text import CountVectorizer\n",
    "from sklearn.calibration import CalibratedClassifierCV\n",
    "from sklearn.svm import LinearSVC\n",
    "from sklearn.externals import joblib\n",
    "import pickle\n",
    "\n",
    "# Read in data\n",
    "data = pd.read_csv('clean_data.csv')\n",
    "texts = data['text'].astype(str)\n",
    "y = data['is_offensive']\n",
    "\n",
    "# Vectorize the text\n",
    "vectorizer = CountVectorizer(stop_words='english', min_df=0.0001)\n",
    "X = vectorizer.fit_transform(texts)\n",
    "\n",
    "# Train the model\n",
    "# model = LinearSVC(class_weight=\"balanced\", dual=False, tol=1e-2, max_iter=1e5)\n",
    "model = LinearSVC()\n",
    "#cclf = CalibratedClassifierCV(base_estimator=model)\n",
    "# cclf.fit(X, y)\n",
    "model.fit(X,y)\n",
    "\n",
    "# Save the model\n",
    "# joblib.dump(vectorizer, 'vectorizer.joblib')\n",
    "# joblib.dump(cclf, 'model.joblib')\n",
    "with open('vectorizer_profanity.pickle', 'wb') as f:\n",
    "    pickle.dump(vectorizer, f)\n",
    "\n",
    "with open('model_profanity.pickle', 'wb') as f:\n",
    "    pickle.dump(model, f)"
   ]
  }
 ]
}