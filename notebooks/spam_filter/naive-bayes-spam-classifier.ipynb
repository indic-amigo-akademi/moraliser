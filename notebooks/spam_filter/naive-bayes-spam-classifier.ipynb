{
 "cells": [
  {
   "cell_type": "code",
   "execution_count": 1,
   "metadata": {
    "_cell_guid": "b1076dfc-b9ad-4769-8c92-a6c4dae69d19",
    "_uuid": "8f2839f25d086af736a60e9eeb907d3b93b6e0e5",
    "execution": {
     "iopub.execute_input": "2021-02-22T16:59:53.167189Z",
     "iopub.status.busy": "2021-02-22T16:59:53.166471Z",
     "iopub.status.idle": "2021-02-22T16:59:54.263330Z",
     "shell.execute_reply": "2021-02-22T16:59:54.262567Z"
    },
    "papermill": {
     "duration": 1.116612,
     "end_time": "2021-02-22T16:59:54.263647",
     "exception": false,
     "start_time": "2021-02-22T16:59:53.147035",
     "status": "completed"
    },
    "tags": []
   },
   "outputs": [],
   "source": [
    "import numpy as np\n",
    "import pandas as pd\n",
    "import re\n",
    "from sklearn.feature_extraction.text import CountVectorizer\n",
    "from sklearn.model_selection import train_test_split\n",
    "from sklearn.naive_bayes import MultinomialNB"
   ]
  },
  {
   "cell_type": "code",
   "execution_count": 2,
   "metadata": {
    "execution": {
     "iopub.execute_input": "2021-02-22T16:59:54.294788Z",
     "iopub.status.busy": "2021-02-22T16:59:54.294005Z",
     "iopub.status.idle": "2021-02-22T16:59:54.395745Z",
     "shell.execute_reply": "2021-02-22T16:59:54.395026Z"
    },
    "papermill": {
     "duration": 0.120243,
     "end_time": "2021-02-22T16:59:54.395911",
     "exception": false,
     "start_time": "2021-02-22T16:59:54.275668",
     "status": "completed"
    },
    "tags": []
   },
   "outputs": [],
   "source": [
    "import pandas as pd\n",
    "\n",
    "df = pd.read_table('SMSSpamCollection.txt', header=None)\n",
    "df.columns = ['target', 'message']"
   ]
  },
  {
   "cell_type": "code",
   "execution_count": 3,
   "metadata": {
    "execution": {
     "iopub.execute_input": "2021-02-22T16:59:54.426851Z",
     "iopub.status.busy": "2021-02-22T16:59:54.426154Z",
     "iopub.status.idle": "2021-02-22T16:59:54.431201Z",
     "shell.execute_reply": "2021-02-22T16:59:54.430552Z"
    },
    "papermill": {
     "duration": 0.022866,
     "end_time": "2021-02-22T16:59:54.431375",
     "exception": false,
     "start_time": "2021-02-22T16:59:54.408509",
     "status": "completed"
    },
    "tags": []
   },
   "outputs": [
    {
     "output_type": "execute_result",
     "data": {
      "text/plain": [
       "(5572, 2)"
      ]
     },
     "metadata": {},
     "execution_count": 3
    }
   ],
   "source": [
    "df.shape"
   ]
  },
  {
   "cell_type": "markdown",
   "metadata": {
    "papermill": {
     "duration": 0.011894,
     "end_time": "2021-02-22T16:59:54.456178",
     "exception": false,
     "start_time": "2021-02-22T16:59:54.444284",
     "status": "completed"
    },
    "tags": []
   },
   "source": [
    "# Build a simple Bag of Words from Scratch"
   ]
  },
  {
   "cell_type": "code",
   "execution_count": 4,
   "metadata": {
    "execution": {
     "iopub.execute_input": "2021-02-22T16:59:54.492360Z",
     "iopub.status.busy": "2021-02-22T16:59:54.491411Z",
     "iopub.status.idle": "2021-02-22T16:59:54.495522Z",
     "shell.execute_reply": "2021-02-22T16:59:54.496335Z"
    },
    "papermill": {
     "duration": 0.027299,
     "end_time": "2021-02-22T16:59:54.496644",
     "exception": false,
     "start_time": "2021-02-22T16:59:54.469345",
     "status": "completed"
    },
    "tags": []
   },
   "outputs": [
    {
     "output_type": "stream",
     "name": "stdout",
     "text": [
      "[['here', 'at', 'the', 'wall'], ['what', 'are', 'the', 'main', 'reasons', 'for'], ['there', 'are', '700', 'possiblities', 'that', 'alex', 'will', 'meet', 'alex', 'prime'], ['alpha', 'prime', 'is', 'the', 'member', 'of', 'prime', 'groups'], ['is', 'that', 'all', 'you', 'got']]\n"
     ]
    }
   ],
   "source": [
    "docs = [\"Here at the Wall\", \n",
    "        \"What are the main reasons for.....\", \n",
    "        \"There are 700 possiblities that Alex will meet Alex Prime\", \n",
    "       \"Alpha prime is the member of Prime Groups\",\n",
    "       \"Is that all you got ?\"]\n",
    "\n",
    "\n",
    "# Preprocess the text \n",
    "\n",
    "\n",
    "def preprocess(text):\n",
    "    \n",
    "    text = text.lower()\n",
    "    text = re.sub(r\"[^a-zA-Z0-9]\", \" \", text)\n",
    "    text = text.strip()\n",
    "    text = text.split(\" \")\n",
    "    \n",
    "    return text\n",
    "\n",
    "\n",
    "preprocessed_docs = [preprocess(d) for d in docs]\n",
    "\n",
    "print(preprocessed_docs)\n",
    "    "
   ]
  },
  {
   "cell_type": "code",
   "execution_count": 5,
   "metadata": {
    "execution": {
     "iopub.execute_input": "2021-02-22T16:59:54.533220Z",
     "iopub.status.busy": "2021-02-22T16:59:54.532487Z",
     "iopub.status.idle": "2021-02-22T16:59:54.535785Z",
     "shell.execute_reply": "2021-02-22T16:59:54.536424Z"
    },
    "papermill": {
     "duration": 0.026337,
     "end_time": "2021-02-22T16:59:54.536612",
     "exception": false,
     "start_time": "2021-02-22T16:59:54.510275",
     "status": "completed"
    },
    "tags": []
   },
   "outputs": [
    {
     "output_type": "execute_result",
     "data": {
      "text/plain": [
       "[{'here': 1, 'at': 1, 'the': 1, 'wall': 1},\n",
       " {'what': 1, 'are': 1, 'the': 1, 'main': 1, 'reasons': 1, 'for': 1},\n",
       " {'there': 1,\n",
       "  'are': 1,\n",
       "  '700': 1,\n",
       "  'possiblities': 1,\n",
       "  'that': 1,\n",
       "  'alex': 2,\n",
       "  'will': 1,\n",
       "  'meet': 1,\n",
       "  'prime': 1},\n",
       " {'alpha': 1,\n",
       "  'prime': 2,\n",
       "  'is': 1,\n",
       "  'the': 1,\n",
       "  'member': 1,\n",
       "  'of': 1,\n",
       "  'groups': 1},\n",
       " {'is': 1, 'that': 1, 'all': 1, 'you': 1, 'got': 1}]"
      ]
     },
     "metadata": {},
     "execution_count": 5
    }
   ],
   "source": [
    "def create_bow(docs):\n",
    "    \n",
    "    bow = []\n",
    "    for d in docs:\n",
    "        count = dict()\n",
    "        for words in d:\n",
    "            count[words] = count.get(words, 0) + 1\n",
    "        bow.append(count)\n",
    "        \n",
    "    return bow\n",
    "\n",
    "create_bow(preprocessed_docs)"
   ]
  },
  {
   "cell_type": "markdown",
   "metadata": {
    "papermill": {
     "duration": 0.013027,
     "end_time": "2021-02-22T16:59:54.563849",
     "exception": false,
     "start_time": "2021-02-22T16:59:54.550822",
     "status": "completed"
    },
    "tags": []
   },
   "source": [
    "# Dealing with the DataSet at Hand"
   ]
  },
  {
   "cell_type": "code",
   "execution_count": 6,
   "metadata": {
    "execution": {
     "iopub.execute_input": "2021-02-22T16:59:54.598283Z",
     "iopub.status.busy": "2021-02-22T16:59:54.597599Z",
     "iopub.status.idle": "2021-02-22T16:59:54.603260Z",
     "shell.execute_reply": "2021-02-22T16:59:54.602647Z"
    },
    "papermill": {
     "duration": 0.025982,
     "end_time": "2021-02-22T16:59:54.603443",
     "exception": false,
     "start_time": "2021-02-22T16:59:54.577461",
     "status": "completed"
    },
    "tags": []
   },
   "outputs": [],
   "source": [
    "def preprocess_text(text):\n",
    "    \n",
    "    text = text.lower()\n",
    "    text = re.sub(r\"[^a-zA-Z0-9]\", \" \", text)\n",
    "    text = text.strip()\n",
    "    text = text.split()\n",
    "    text = ' '.join(list(filter(lambda x : x not in ['', ' '], text)))\n",
    "    return text"
   ]
  },
  {
   "cell_type": "code",
   "execution_count": 7,
   "metadata": {
    "execution": {
     "iopub.execute_input": "2021-02-22T16:59:54.636661Z",
     "iopub.status.busy": "2021-02-22T16:59:54.635961Z",
     "iopub.status.idle": "2021-02-22T16:59:54.742066Z",
     "shell.execute_reply": "2021-02-22T16:59:54.742700Z"
    },
    "papermill": {
     "duration": 0.12496,
     "end_time": "2021-02-22T16:59:54.742945",
     "exception": false,
     "start_time": "2021-02-22T16:59:54.617985",
     "status": "completed"
    },
    "tags": []
   },
   "outputs": [
    {
     "output_type": "execute_result",
     "data": {
      "text/plain": [
       "     target                                            message\n",
       "0       ham  go until jurong point crazy available only in ...\n",
       "1       ham                            ok lar joking wif u oni\n",
       "2      spam  free entry in 2 a wkly comp to win fa cup fina...\n",
       "3       ham        u dun say so early hor u c already then say\n",
       "4       ham  nah i don t think he goes to usf he lives arou...\n",
       "...     ...                                                ...\n",
       "5567   spam  this is the 2nd time we have tried 2 contact u...\n",
       "5568    ham                  will b going to esplanade fr home\n",
       "5569    ham  pity was in mood for that so any other suggest...\n",
       "5570    ham  the guy did some bitching but i acted like i d...\n",
       "5571    ham                          rofl its true to its name\n",
       "\n",
       "[5572 rows x 2 columns]"
      ],
      "text/html": "<div>\n<style scoped>\n    .dataframe tbody tr th:only-of-type {\n        vertical-align: middle;\n    }\n\n    .dataframe tbody tr th {\n        vertical-align: top;\n    }\n\n    .dataframe thead th {\n        text-align: right;\n    }\n</style>\n<table border=\"1\" class=\"dataframe\">\n  <thead>\n    <tr style=\"text-align: right;\">\n      <th></th>\n      <th>target</th>\n      <th>message</th>\n    </tr>\n  </thead>\n  <tbody>\n    <tr>\n      <th>0</th>\n      <td>ham</td>\n      <td>go until jurong point crazy available only in ...</td>\n    </tr>\n    <tr>\n      <th>1</th>\n      <td>ham</td>\n      <td>ok lar joking wif u oni</td>\n    </tr>\n    <tr>\n      <th>2</th>\n      <td>spam</td>\n      <td>free entry in 2 a wkly comp to win fa cup fina...</td>\n    </tr>\n    <tr>\n      <th>3</th>\n      <td>ham</td>\n      <td>u dun say so early hor u c already then say</td>\n    </tr>\n    <tr>\n      <th>4</th>\n      <td>ham</td>\n      <td>nah i don t think he goes to usf he lives arou...</td>\n    </tr>\n    <tr>\n      <th>...</th>\n      <td>...</td>\n      <td>...</td>\n    </tr>\n    <tr>\n      <th>5567</th>\n      <td>spam</td>\n      <td>this is the 2nd time we have tried 2 contact u...</td>\n    </tr>\n    <tr>\n      <th>5568</th>\n      <td>ham</td>\n      <td>will b going to esplanade fr home</td>\n    </tr>\n    <tr>\n      <th>5569</th>\n      <td>ham</td>\n      <td>pity was in mood for that so any other suggest...</td>\n    </tr>\n    <tr>\n      <th>5570</th>\n      <td>ham</td>\n      <td>the guy did some bitching but i acted like i d...</td>\n    </tr>\n    <tr>\n      <th>5571</th>\n      <td>ham</td>\n      <td>rofl its true to its name</td>\n    </tr>\n  </tbody>\n</table>\n<p>5572 rows × 2 columns</p>\n</div>"
     },
     "metadata": {},
     "execution_count": 7
    }
   ],
   "source": [
    "df.message = df.message.apply(preprocess_text)\n",
    "df"
   ]
  },
  {
   "cell_type": "code",
   "execution_count": 8,
   "metadata": {
    "execution": {
     "iopub.execute_input": "2021-02-22T16:59:54.779115Z",
     "iopub.status.busy": "2021-02-22T16:59:54.778434Z",
     "iopub.status.idle": "2021-02-22T16:59:54.797692Z",
     "shell.execute_reply": "2021-02-22T16:59:54.797103Z"
    },
    "papermill": {
     "duration": 0.03924,
     "end_time": "2021-02-22T16:59:54.797842",
     "exception": false,
     "start_time": "2021-02-22T16:59:54.758602",
     "status": "completed"
    },
    "tags": []
   },
   "outputs": [],
   "source": [
    "# Split the data into Train/Test\n",
    "X_train, X_test, y_train, y_test = train_test_split(df.message.values, df.target.values, test_size=0.1, stratify=df.target)"
   ]
  },
  {
   "cell_type": "code",
   "execution_count": 9,
   "metadata": {
    "execution": {
     "iopub.execute_input": "2021-02-22T16:59:54.833123Z",
     "iopub.status.busy": "2021-02-22T16:59:54.832438Z",
     "iopub.status.idle": "2021-02-22T16:59:54.837890Z",
     "shell.execute_reply": "2021-02-22T16:59:54.837156Z"
    },
    "papermill": {
     "duration": 0.024465,
     "end_time": "2021-02-22T16:59:54.838041",
     "exception": false,
     "start_time": "2021-02-22T16:59:54.813576",
     "status": "completed"
    },
    "tags": []
   },
   "outputs": [],
   "source": [
    "# In sklearn you can create a BOW using the CountVectorizer() function\n",
    "\n",
    "bow = CountVectorizer(stop_words='english')"
   ]
  },
  {
   "cell_type": "code",
   "execution_count": 10,
   "metadata": {
    "execution": {
     "iopub.execute_input": "2021-02-22T16:59:54.872072Z",
     "iopub.status.busy": "2021-02-22T16:59:54.871097Z",
     "iopub.status.idle": "2021-02-22T16:59:55.113291Z",
     "shell.execute_reply": "2021-02-22T16:59:55.112684Z"
    },
    "papermill": {
     "duration": 0.260527,
     "end_time": "2021-02-22T16:59:55.113472",
     "exception": false,
     "start_time": "2021-02-22T16:59:54.852945",
     "status": "completed"
    },
    "tags": []
   },
   "outputs": [
    {
     "output_type": "execute_result",
     "data": {
      "text/plain": [
       "CountVectorizer(stop_words='english')"
      ]
     },
     "metadata": {},
     "execution_count": 10
    }
   ],
   "source": [
    "# Fit the bag of words on the training docs\n",
    "bow.fit(X_train)"
   ]
  },
  {
   "cell_type": "code",
   "execution_count": 11,
   "metadata": {
    "execution": {
     "iopub.execute_input": "2021-02-22T16:59:55.175078Z",
     "iopub.status.busy": "2021-02-22T16:59:55.169739Z",
     "iopub.status.idle": "2021-02-22T16:59:55.270887Z",
     "shell.execute_reply": "2021-02-22T16:59:55.270271Z"
    },
    "papermill": {
     "duration": 0.141994,
     "end_time": "2021-02-22T16:59:55.271033",
     "exception": false,
     "start_time": "2021-02-22T16:59:55.129039",
     "status": "completed"
    },
    "tags": []
   },
   "outputs": [],
   "source": [
    "X_train = bow.transform(X_train)\n",
    "X_test = bow.transform(X_test)"
   ]
  },
  {
   "cell_type": "code",
   "execution_count": 12,
   "metadata": {
    "execution": {
     "iopub.execute_input": "2021-02-22T16:59:55.328277Z",
     "iopub.status.busy": "2021-02-22T16:59:55.327602Z",
     "iopub.status.idle": "2021-02-22T16:59:55.336464Z",
     "shell.execute_reply": "2021-02-22T16:59:55.335915Z"
    },
    "papermill": {
     "duration": 0.050196,
     "end_time": "2021-02-22T16:59:55.336624",
     "exception": false,
     "start_time": "2021-02-22T16:59:55.286428",
     "status": "completed"
    },
    "tags": []
   },
   "outputs": [
    {
     "output_type": "execute_result",
     "data": {
      "text/plain": [
       "MultinomialNB()"
      ]
     },
     "metadata": {},
     "execution_count": 12
    }
   ],
   "source": [
    "naive_bayes = MultinomialNB()\n",
    "naive_bayes.fit(X_train, y_train)"
   ]
  },
  {
   "cell_type": "code",
   "execution_count": 13,
   "metadata": {
    "execution": {
     "iopub.execute_input": "2021-02-22T16:59:55.373482Z",
     "iopub.status.busy": "2021-02-22T16:59:55.372721Z",
     "iopub.status.idle": "2021-02-22T16:59:55.397680Z",
     "shell.execute_reply": "2021-02-22T16:59:55.397113Z"
    },
    "papermill": {
     "duration": 0.045808,
     "end_time": "2021-02-22T16:59:55.397842",
     "exception": false,
     "start_time": "2021-02-22T16:59:55.352034",
     "status": "completed"
    },
    "tags": []
   },
   "outputs": [
    {
     "output_type": "stream",
     "name": "stdout",
     "text": [
      "Accuracy : 0.993\nPrecision : 0.973\nRecall : 0.973\nF1-Score : 0.973\n"
     ]
    }
   ],
   "source": [
    "from sklearn.metrics import accuracy_score, precision_score, recall_score, f1_score\n",
    "\n",
    "print(f'Accuracy : {accuracy_score(y_test, naive_bayes.predict(X_test)):.3f}')\n",
    "print(f'Precision : {precision_score(y_test, naive_bayes.predict(X_test), pos_label=\"spam\"):.3f}')\n",
    "print(f'Recall : {recall_score(y_test, naive_bayes.predict(X_test), pos_label=\"spam\"):.3f}')\n",
    "print(f'F1-Score : {f1_score(y_test, naive_bayes.predict(X_test), pos_label=\"spam\"):.3f}')"
   ]
  },
  {
   "cell_type": "markdown",
   "metadata": {
    "papermill": {
     "duration": 0.015813,
     "end_time": "2021-02-22T16:59:55.429829",
     "exception": false,
     "start_time": "2021-02-22T16:59:55.414016",
     "status": "completed"
    },
    "tags": []
   },
   "source": [
    "# Testing the Model"
   ]
  },
  {
   "cell_type": "code",
   "execution_count": 14,
   "metadata": {
    "execution": {
     "iopub.execute_input": "2021-02-22T16:59:55.469454Z",
     "iopub.status.busy": "2021-02-22T16:59:55.468568Z",
     "iopub.status.idle": "2021-02-22T16:59:55.475422Z",
     "shell.execute_reply": "2021-02-22T16:59:55.474676Z"
    },
    "papermill": {
     "duration": 0.029701,
     "end_time": "2021-02-22T16:59:55.475872",
     "exception": false,
     "start_time": "2021-02-22T16:59:55.446171",
     "status": "completed"
    },
    "tags": []
   },
   "outputs": [
    {
     "output_type": "stream",
     "name": "stdout",
     "text": [
      "you ve won winning an unexpected prize sounds great in theory\n"
     ]
    },
    {
     "output_type": "execute_result",
     "data": {
      "text/plain": [
       "0.5703461185427379"
      ]
     },
     "metadata": {},
     "execution_count": 14
    }
   ],
   "source": [
    "# Test sample input\n",
    "\n",
    "text = \"You've Won! Winning an unexpected prize sounds great in theory. ...\"\n",
    "p_text = preprocess_text(text)\n",
    "print(p_text)\n",
    "p_text = bow.transform([p_text])\n",
    "naive_bayes.predict_proba(p_text)[0][1]"
   ]
  },
  {
   "source": [
    "# Saving model"
   ],
   "cell_type": "markdown",
   "metadata": {
    "papermill": {
     "duration": 0.016848,
     "end_time": "2021-02-22T16:59:55.509992",
     "exception": false,
     "start_time": "2021-02-22T16:59:55.493144",
     "status": "completed"
    },
    "tags": []
   }
  },
  {
   "cell_type": "code",
   "execution_count": 15,
   "metadata": {},
   "outputs": [],
   "source": [
    "import pickle\n",
    "\n",
    "with open('model_spam.pickle', 'wb') as handle:\n",
    "    pickle.dump(naive_bayes, handle)\n",
    "\n",
    "with open('vectorizer_spam.pickle', 'wb') as handle:\n",
    "    pickle.dump(bow, handle)"
   ]
  }
 ],
 "metadata": {
  "kernelspec": {
   "display_name": "Python 3",
   "language": "python",
   "name": "python3"
  },
  "language_info": {
   "codemirror_mode": {
    "name": "ipython",
    "version": 3
   },
   "file_extension": ".py",
   "mimetype": "text/x-python",
   "name": "python",
   "nbconvert_exporter": "python",
   "pygments_lexer": "ipython3",
   "version": "3.8.3-final"
  },
  "papermill": {
   "default_parameters": {},
   "duration": 9.378478,
   "end_time": "2021-02-22T16:59:56.137892",
   "environment_variables": {},
   "exception": null,
   "input_path": "__notebook__.ipynb",
   "output_path": "__notebook__.ipynb",
   "parameters": {},
   "start_time": "2021-02-22T16:59:46.759414",
   "version": "2.2.2"
  }
 },
 "nbformat": 4,
 "nbformat_minor": 4
}